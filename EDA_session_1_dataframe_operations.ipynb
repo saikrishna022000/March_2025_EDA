{
 "cells": [
  {
   "cell_type": "markdown",
   "id": "48000d46-a38f-46ca-87c3-2ee17e17e580",
   "metadata": {},
   "source": [
    "-----------------Data Analysis------------------\n",
    "1. pandas ----------   Dataframe read and write operations\n",
    "2. numpy  ----------    numerical python math operations\n",
    "3. matplotlib ------     plots, graphs, visulization\n",
    "4. seabron  --------     plots\n",
    "5. plotly   -------      plots\n",
    "6. bokhe     ------      plots\n",
    "\n",
    "--------------------- Machine learning ------------------\n",
    "7. sickit-learn (sklearn) ==== model devlopment\n",
    "8. stats package          ==== linear regression\n",
    "\n",
    "===================== Webscrapping and Database connection ========\n",
    "9. sqlite           ======== sql connection\n",
    "10. beautiful soup  ======== scrap the data\n",
    "11. websocket       ======== scrap the data\n",
    "\n",
    "====================== Deep learning ==================\n",
    "12. Tensorflow        =====  deep learning models development\n",
    "13. keras\n",
    "14. pytorch           =====  develop by facebook(meta)\n",
    "15. Opencv            =====  computer vision(reading and writing images)\n",
    "16. Pillow            =====  reading images\n",
    "\n",
    "======================== NLP ====================================\n",
    "17. NLTK              =====  NATURAL language tool kit\n",
    "18. spaCy             ====   NLP models\n",
    "19. woedcloud         ====\n",
    "\n",
    "======================= Web development - API ==============\n",
    "20. Flask\n",
    "21. Django\n",
    "22. Fast API\n",
    "23. Gradio\n",
    "\n",
    "======================= Apps creation ===================\n",
    "24. streamlit\n",
    "\n",
    "======================= Transformers BERT ===============\n",
    "25. TRANSFORMERS ==== huggingface (Google)\n",
    "\n",
    "======================= DL:Pretrained models object detections =======\n",
    "26. Vgg16\n",
    "27. Mobilenet\n",
    "28. Yolo   ------ Ultraytics\n",
    "\n",
    "======================== NLP pretrined models===========\n",
    "29.word2Vec -------- google\n",
    "30.gloVe  ------------ standforuniversity\n",
    "\n",
    "=====================\n",
    "31. pickle\n",
    "32. joblib\n",
    "\n",
    "==================== GenAI LLM ========\n",
    "33. Azure openai\n",
    "34. google gemini\n",
    "35. Amazon bedrock\n",
    "36. LLAMA meta Ai\n",
    "37. Langchain Framework\n",
    "\n",
    "========== MODEL Deployment ===============\n",
    "38. Mlflow\n",
    "\n",
    "================= Cloud services ========= \n",
    "39. Azure mi related packages\n",
    "40. GCP vertex ai packages\n",
    "41. Amazon sagemaker Packages\n",
    "\n",
    "=================== Alle NLP ======\n",
    "42. Allen NLP packages\n",
    "\n",
    "================== ML using pyspark ========\n",
    "43. MLlib package\n",
    "\n",
    "====\n",
    "44. random\n",
    "45. math\n",
    "46. time\n",
    "47. logger"
   ]
  },
  {
   "cell_type": "markdown",
   "id": "f7072821-4153-405a-909b-70bdc795779d",
   "metadata": {},
   "source": [
    "**step-1: import packages**"
   ]
  },
  {
   "cell_type": "code",
   "execution_count": 5,
   "id": "0230e963-7712-453a-9c3f-a31ba72f45dc",
   "metadata": {},
   "outputs": [],
   "source": [
    "import pandas as pd\n",
    "import numpy as np\n",
    "import matplotlib.pyplot as plt\n",
    "import seaborn as sns"
   ]
  },
  {
   "cell_type": "markdown",
   "id": "4c3da6ff-182e-47a8-a1b5-7da887dfde9c",
   "metadata": {},
   "source": [
    "**step-2:create a DataFrame using List**"
   ]
  },
  {
   "cell_type": "code",
   "execution_count": 5,
   "id": "40eadfb9-e68b-4084-841b-466886900407",
   "metadata": {},
   "outputs": [
    {
     "data": {
      "text/plain": [
       "pandas.core.frame.DataFrame"
      ]
     },
     "execution_count": 5,
     "metadata": {},
     "output_type": "execute_result"
    }
   ],
   "source": [
    "import pandas as pd\n",
    "pd.DataFrame"
   ]
  },
  {
   "cell_type": "code",
   "execution_count": 7,
   "id": "1e446dc1-cd57-4889-9336-4221581316bd",
   "metadata": {},
   "outputs": [
    {
     "data": {
      "text/html": [
       "<div>\n",
       "<style scoped>\n",
       "    .dataframe tbody tr th:only-of-type {\n",
       "        vertical-align: middle;\n",
       "    }\n",
       "\n",
       "    .dataframe tbody tr th {\n",
       "        vertical-align: top;\n",
       "    }\n",
       "\n",
       "    .dataframe thead th {\n",
       "        text-align: right;\n",
       "    }\n",
       "</style>\n",
       "<table border=\"1\" class=\"dataframe\">\n",
       "  <thead>\n",
       "    <tr style=\"text-align: right;\">\n",
       "      <th></th>\n",
       "    </tr>\n",
       "  </thead>\n",
       "  <tbody>\n",
       "  </tbody>\n",
       "</table>\n",
       "</div>"
      ],
      "text/plain": [
       "Empty DataFrame\n",
       "Columns: []\n",
       "Index: []"
      ]
     },
     "execution_count": 7,
     "metadata": {},
     "output_type": "execute_result"
    }
   ],
   "source": [
    "import pandas as pd\n",
    "data=pd.DataFrame()\n",
    "# we create a DataFrame\n",
    "# but no data(no rows and coloums)\n",
    "# we saved our dataframe with a name 'data'\n",
    "data"
   ]
  },
  {
   "cell_type": "markdown",
   "id": "5afbf7ba-c1c3-476d-ab01-cf012b073f38",
   "metadata": {},
   "source": [
    "**step-3: provide the data**"
   ]
  },
  {
   "cell_type": "code",
   "execution_count": 10,
   "id": "ccd76736-0e3e-47f8-a27b-e3705e46bff3",
   "metadata": {},
   "outputs": [
    {
     "data": {
      "text/html": [
       "<div>\n",
       "<style scoped>\n",
       "    .dataframe tbody tr th:only-of-type {\n",
       "        vertical-align: middle;\n",
       "    }\n",
       "\n",
       "    .dataframe tbody tr th {\n",
       "        vertical-align: top;\n",
       "    }\n",
       "\n",
       "    .dataframe thead th {\n",
       "        text-align: right;\n",
       "    }\n",
       "</style>\n",
       "<table border=\"1\" class=\"dataframe\">\n",
       "  <thead>\n",
       "    <tr style=\"text-align: right;\">\n",
       "      <th></th>\n",
       "      <th>0</th>\n",
       "    </tr>\n",
       "  </thead>\n",
       "  <tbody>\n",
       "    <tr>\n",
       "      <th>0</th>\n",
       "      <td>Raj</td>\n",
       "    </tr>\n",
       "    <tr>\n",
       "      <th>1</th>\n",
       "      <td>Abhi</td>\n",
       "    </tr>\n",
       "    <tr>\n",
       "      <th>2</th>\n",
       "      <td>chinna</td>\n",
       "    </tr>\n",
       "  </tbody>\n",
       "</table>\n",
       "</div>"
      ],
      "text/plain": [
       "        0\n",
       "0     Raj\n",
       "1    Abhi\n",
       "2  chinna"
      ]
     },
     "execution_count": 10,
     "metadata": {},
     "output_type": "execute_result"
    }
   ],
   "source": [
    "name=['Raj','Abhi','chinna']\n",
    "pd.DataFrame(name)"
   ]
  },
  {
   "cell_type": "code",
   "execution_count": 12,
   "id": "5143c855-eb6f-4802-8cc5-b578d1717a09",
   "metadata": {},
   "outputs": [
    {
     "data": {
      "text/html": [
       "<div>\n",
       "<style scoped>\n",
       "    .dataframe tbody tr th:only-of-type {\n",
       "        vertical-align: middle;\n",
       "    }\n",
       "\n",
       "    .dataframe tbody tr th {\n",
       "        vertical-align: top;\n",
       "    }\n",
       "\n",
       "    .dataframe thead th {\n",
       "        text-align: right;\n",
       "    }\n",
       "</style>\n",
       "<table border=\"1\" class=\"dataframe\">\n",
       "  <thead>\n",
       "    <tr style=\"text-align: right;\">\n",
       "      <th></th>\n",
       "      <th>0</th>\n",
       "      <th>1</th>\n",
       "    </tr>\n",
       "  </thead>\n",
       "  <tbody>\n",
       "    <tr>\n",
       "      <th>0</th>\n",
       "      <td>Raj</td>\n",
       "      <td>20</td>\n",
       "    </tr>\n",
       "    <tr>\n",
       "      <th>1</th>\n",
       "      <td>Abhi</td>\n",
       "      <td>21</td>\n",
       "    </tr>\n",
       "    <tr>\n",
       "      <th>2</th>\n",
       "      <td>chinna</td>\n",
       "      <td>22</td>\n",
       "    </tr>\n",
       "  </tbody>\n",
       "</table>\n",
       "</div>"
      ],
      "text/plain": [
       "        0   1\n",
       "0     Raj  20\n",
       "1    Abhi  21\n",
       "2  chinna  22"
      ]
     },
     "execution_count": 12,
     "metadata": {},
     "output_type": "execute_result"
    }
   ],
   "source": [
    "name=['Raj','Abhi','chinna']\n",
    "age = [20,21,22]\n",
    "pd.DataFrame( zip(name,age))"
   ]
  },
  {
   "cell_type": "code",
   "execution_count": 14,
   "id": "1fadd42a-a55d-4c74-8449-a52169b7a3d7",
   "metadata": {},
   "outputs": [
    {
     "data": {
      "text/html": [
       "<div>\n",
       "<style scoped>\n",
       "    .dataframe tbody tr th:only-of-type {\n",
       "        vertical-align: middle;\n",
       "    }\n",
       "\n",
       "    .dataframe tbody tr th {\n",
       "        vertical-align: top;\n",
       "    }\n",
       "\n",
       "    .dataframe thead th {\n",
       "        text-align: right;\n",
       "    }\n",
       "</style>\n",
       "<table border=\"1\" class=\"dataframe\">\n",
       "  <thead>\n",
       "    <tr style=\"text-align: right;\">\n",
       "      <th></th>\n",
       "      <th>0</th>\n",
       "      <th>1</th>\n",
       "      <th>2</th>\n",
       "    </tr>\n",
       "  </thead>\n",
       "  <tbody>\n",
       "    <tr>\n",
       "      <th>0</th>\n",
       "      <td>Raj</td>\n",
       "      <td>20</td>\n",
       "      <td>pune</td>\n",
       "    </tr>\n",
       "    <tr>\n",
       "      <th>1</th>\n",
       "      <td>Abhi</td>\n",
       "      <td>21</td>\n",
       "      <td>hyd</td>\n",
       "    </tr>\n",
       "    <tr>\n",
       "      <th>2</th>\n",
       "      <td>chinna</td>\n",
       "      <td>22</td>\n",
       "      <td>delhi</td>\n",
       "    </tr>\n",
       "  </tbody>\n",
       "</table>\n",
       "</div>"
      ],
      "text/plain": [
       "        0   1      2\n",
       "0     Raj  20   pune\n",
       "1    Abhi  21    hyd\n",
       "2  chinna  22  delhi"
      ]
     },
     "execution_count": 14,
     "metadata": {},
     "output_type": "execute_result"
    }
   ],
   "source": [
    "name = ['Raj','Abhi','chinna']\n",
    "age = [20,21,22]\n",
    "city = ['pune','hyd','delhi']\n",
    "pd.DataFrame( zip(name,age,city))"
   ]
  },
  {
   "cell_type": "code",
   "execution_count": 16,
   "id": "9b60c168-5774-4cd4-9385-737bd10314e2",
   "metadata": {},
   "outputs": [
    {
     "data": {
      "text/html": [
       "<div>\n",
       "<style scoped>\n",
       "    .dataframe tbody tr th:only-of-type {\n",
       "        vertical-align: middle;\n",
       "    }\n",
       "\n",
       "    .dataframe tbody tr th {\n",
       "        vertical-align: top;\n",
       "    }\n",
       "\n",
       "    .dataframe thead th {\n",
       "        text-align: right;\n",
       "    }\n",
       "</style>\n",
       "<table border=\"1\" class=\"dataframe\">\n",
       "  <thead>\n",
       "    <tr style=\"text-align: right;\">\n",
       "      <th></th>\n",
       "      <th>0</th>\n",
       "      <th>1</th>\n",
       "      <th>2</th>\n",
       "    </tr>\n",
       "  </thead>\n",
       "  <tbody>\n",
       "    <tr>\n",
       "      <th>0</th>\n",
       "      <td>Raj</td>\n",
       "      <td>Abhi</td>\n",
       "      <td>chinna</td>\n",
       "    </tr>\n",
       "    <tr>\n",
       "      <th>1</th>\n",
       "      <td>20</td>\n",
       "      <td>21</td>\n",
       "      <td>22</td>\n",
       "    </tr>\n",
       "    <tr>\n",
       "      <th>2</th>\n",
       "      <td>pune</td>\n",
       "      <td>hyd</td>\n",
       "      <td>delhi</td>\n",
       "    </tr>\n",
       "  </tbody>\n",
       "</table>\n",
       "</div>"
      ],
      "text/plain": [
       "      0     1       2\n",
       "0   Raj  Abhi  chinna\n",
       "1    20    21      22\n",
       "2  pune   hyd   delhi"
      ]
     },
     "execution_count": 16,
     "metadata": {},
     "output_type": "execute_result"
    }
   ],
   "source": [
    "name = ['Raj','Abhi','chinna']\n",
    "age = [20,21,22]\n",
    "city = ['pune','hyd','delhi']\n",
    "data=[name,age,city]\n",
    "pd.DataFrame(data)"
   ]
  },
  {
   "cell_type": "markdown",
   "id": "025df9c3-d30e-4fdc-a925-620318b38336",
   "metadata": {},
   "source": [
    "**step-4: provide the columns**\n",
    "- columns we need to provide\n",
    "- the number of columns\n",
    "- here we have 3 coloumns"
   ]
  },
  {
   "cell_type": "code",
   "execution_count": 19,
   "id": "390f9ad5-26ed-45d4-affa-5add30b90c68",
   "metadata": {},
   "outputs": [
    {
     "data": {
      "text/html": [
       "<div>\n",
       "<style scoped>\n",
       "    .dataframe tbody tr th:only-of-type {\n",
       "        vertical-align: middle;\n",
       "    }\n",
       "\n",
       "    .dataframe tbody tr th {\n",
       "        vertical-align: top;\n",
       "    }\n",
       "\n",
       "    .dataframe thead th {\n",
       "        text-align: right;\n",
       "    }\n",
       "</style>\n",
       "<table border=\"1\" class=\"dataframe\">\n",
       "  <thead>\n",
       "    <tr style=\"text-align: right;\">\n",
       "      <th></th>\n",
       "      <th>names</th>\n",
       "      <th>age</th>\n",
       "      <th>city</th>\n",
       "    </tr>\n",
       "  </thead>\n",
       "  <tbody>\n",
       "    <tr>\n",
       "      <th>0</th>\n",
       "      <td>Raj</td>\n",
       "      <td>20</td>\n",
       "      <td>pune</td>\n",
       "    </tr>\n",
       "    <tr>\n",
       "      <th>1</th>\n",
       "      <td>Abhi</td>\n",
       "      <td>21</td>\n",
       "      <td>hyd</td>\n",
       "    </tr>\n",
       "    <tr>\n",
       "      <th>2</th>\n",
       "      <td>chinna</td>\n",
       "      <td>22</td>\n",
       "      <td>delhi</td>\n",
       "    </tr>\n",
       "  </tbody>\n",
       "</table>\n",
       "</div>"
      ],
      "text/plain": [
       "    names  age   city\n",
       "0     Raj   20   pune\n",
       "1    Abhi   21    hyd\n",
       "2  chinna   22  delhi"
      ]
     },
     "execution_count": 19,
     "metadata": {},
     "output_type": "execute_result"
    }
   ],
   "source": [
    "name = ['Raj','Abhi','chinna']\n",
    "age = [20,21,22]\n",
    "city = ['pune','hyd','delhi']\n",
    "cols=['names','age','city']\n",
    "df=pd.DataFrame( zip(name,age,city),\n",
    "               columns=cols\n",
    "               )\n",
    "df"
   ]
  },
  {
   "cell_type": "markdown",
   "id": "f282db30-9580-4d85-80f2-c91a2467660b",
   "metadata": {},
   "source": [
    "**step-5: provide the index**"
   ]
  },
  {
   "cell_type": "code",
   "execution_count": 25,
   "id": "2833b46b-bbda-42ee-bc28-d79e298b4661",
   "metadata": {},
   "outputs": [
    {
     "data": {
      "text/html": [
       "<div>\n",
       "<style scoped>\n",
       "    .dataframe tbody tr th:only-of-type {\n",
       "        vertical-align: middle;\n",
       "    }\n",
       "\n",
       "    .dataframe tbody tr th {\n",
       "        vertical-align: top;\n",
       "    }\n",
       "\n",
       "    .dataframe thead th {\n",
       "        text-align: right;\n",
       "    }\n",
       "</style>\n",
       "<table border=\"1\" class=\"dataframe\">\n",
       "  <thead>\n",
       "    <tr style=\"text-align: right;\">\n",
       "      <th></th>\n",
       "      <th>names</th>\n",
       "      <th>age</th>\n",
       "      <th>city</th>\n",
       "    </tr>\n",
       "  </thead>\n",
       "  <tbody>\n",
       "    <tr>\n",
       "      <th>a</th>\n",
       "      <td>Raj</td>\n",
       "      <td>20</td>\n",
       "      <td>pune</td>\n",
       "    </tr>\n",
       "    <tr>\n",
       "      <th>b</th>\n",
       "      <td>Abhi</td>\n",
       "      <td>21</td>\n",
       "      <td>hyd</td>\n",
       "    </tr>\n",
       "    <tr>\n",
       "      <th>c</th>\n",
       "      <td>chinna</td>\n",
       "      <td>22</td>\n",
       "      <td>delhi</td>\n",
       "    </tr>\n",
       "  </tbody>\n",
       "</table>\n",
       "</div>"
      ],
      "text/plain": [
       "    names  age   city\n",
       "a     Raj   20   pune\n",
       "b    Abhi   21    hyd\n",
       "c  chinna   22  delhi"
      ]
     },
     "execution_count": 25,
     "metadata": {},
     "output_type": "execute_result"
    }
   ],
   "source": [
    "name = ['Raj','Abhi','chinna']\n",
    "age = [20,21,22]\n",
    "city = ['pune','hyd','delhi']\n",
    "cols=['names','age','city']\n",
    "id=['a','b','c']\n",
    "df=pd.DataFrame( zip(name,age,city),\n",
    "               columns=cols,\n",
    "                index=id\n",
    "               )\n",
    "df"
   ]
  },
  {
   "cell_type": "markdown",
   "id": "71ab1141-213d-448f-9010-e93557ed0a35",
   "metadata": {},
   "source": [
    "**step-6: how to add a new column to already Existed dataframe**\n",
    "- here we already has a data frame with name **df**\n",
    "- it has 3 columns\n",
    "- now we want add a new column **marks**\n",
    "- we need to create a new array or list\n",
    "- that length of list shouid equal to len of rows\n",
    "- so here we have 3 rows, so new list also has 3 valued"
   ]
  },
  {
   "cell_type": "code",
   "execution_count": 28,
   "id": "5762b696-c426-4092-a21e-242831e6be47",
   "metadata": {},
   "outputs": [
    {
     "data": {
      "text/html": [
       "<div>\n",
       "<style scoped>\n",
       "    .dataframe tbody tr th:only-of-type {\n",
       "        vertical-align: middle;\n",
       "    }\n",
       "\n",
       "    .dataframe tbody tr th {\n",
       "        vertical-align: top;\n",
       "    }\n",
       "\n",
       "    .dataframe thead th {\n",
       "        text-align: right;\n",
       "    }\n",
       "</style>\n",
       "<table border=\"1\" class=\"dataframe\">\n",
       "  <thead>\n",
       "    <tr style=\"text-align: right;\">\n",
       "      <th></th>\n",
       "      <th>names</th>\n",
       "      <th>age</th>\n",
       "      <th>city</th>\n",
       "      <th>marks</th>\n",
       "    </tr>\n",
       "  </thead>\n",
       "  <tbody>\n",
       "    <tr>\n",
       "      <th>a</th>\n",
       "      <td>Raj</td>\n",
       "      <td>20</td>\n",
       "      <td>pune</td>\n",
       "      <td>100</td>\n",
       "    </tr>\n",
       "    <tr>\n",
       "      <th>b</th>\n",
       "      <td>Abhi</td>\n",
       "      <td>21</td>\n",
       "      <td>hyd</td>\n",
       "      <td>200</td>\n",
       "    </tr>\n",
       "    <tr>\n",
       "      <th>c</th>\n",
       "      <td>chinna</td>\n",
       "      <td>22</td>\n",
       "      <td>delhi</td>\n",
       "      <td>300</td>\n",
       "    </tr>\n",
       "  </tbody>\n",
       "</table>\n",
       "</div>"
      ],
      "text/plain": [
       "    names  age   city  marks\n",
       "a     Raj   20   pune    100\n",
       "b    Abhi   21    hyd    200\n",
       "c  chinna   22  delhi    300"
      ]
     },
     "execution_count": 28,
     "metadata": {},
     "output_type": "execute_result"
    }
   ],
   "source": [
    "#df['<new column name>']=<list>\n",
    "marks=[100,200,300]\n",
    "df['marks']=marks\n",
    "df"
   ]
  },
  {
   "cell_type": "code",
   "execution_count": 13,
   "id": "3121e7fc-a2b7-498d-924b-95c84212b87d",
   "metadata": {},
   "outputs": [],
   "source": [
    "#name = ['Raj','Abhi','chinna']\n",
    "#age = [20,21,22]\n",
    "#city = ['pune','hyd','delhi']\n",
    "#cols=['names','age','city']\n",
    "#id=['a','b','c']\n",
    "#df=pd.DataFrame( zip(name,age,city),\n",
    " #              columns=cols,\n",
    "  #              index=id\n",
    " #              )\n",
    "#df"
   ]
  },
  {
   "cell_type": "markdown",
   "id": "afaf5103-81d3-479f-982a-25759201f0ff",
   "metadata": {},
   "source": [
    "**step-7:Create a DataFrame using an empty dataframe**\n",
    "\n",
    "- In above case we created a list\r",
    "- \n",
    "we create a dataframe by passing the list"
   ]
  },
  {
   "cell_type": "code",
   "execution_count": 23,
   "id": "bf471b12-dd7c-460f-98b6-f196c9656ba9",
   "metadata": {},
   "outputs": [
    {
     "data": {
      "text/html": [
       "<div>\n",
       "<style scoped>\n",
       "    .dataframe tbody tr th:only-of-type {\n",
       "        vertical-align: middle;\n",
       "    }\n",
       "\n",
       "    .dataframe tbody tr th {\n",
       "        vertical-align: top;\n",
       "    }\n",
       "\n",
       "    .dataframe thead th {\n",
       "        text-align: right;\n",
       "    }\n",
       "</style>\n",
       "<table border=\"1\" class=\"dataframe\">\n",
       "  <thead>\n",
       "    <tr style=\"text-align: right;\">\n",
       "      <th></th>\n",
       "    </tr>\n",
       "  </thead>\n",
       "  <tbody>\n",
       "  </tbody>\n",
       "</table>\n",
       "</div>"
      ],
      "text/plain": [
       "Empty DataFrame\n",
       "Columns: []\n",
       "Index: []"
      ]
     },
     "execution_count": 23,
     "metadata": {},
     "output_type": "execute_result"
    }
   ],
   "source": [
    "#dataframe is created\n",
    "df1=pd.DataFrame()\n",
    "df1"
   ]
  },
  {
   "cell_type": "code",
   "execution_count": 25,
   "id": "b19ba921-7eba-4554-b412-5f370e4e331e",
   "metadata": {},
   "outputs": [
    {
     "data": {
      "text/html": [
       "<div>\n",
       "<style scoped>\n",
       "    .dataframe tbody tr th:only-of-type {\n",
       "        vertical-align: middle;\n",
       "    }\n",
       "\n",
       "    .dataframe tbody tr th {\n",
       "        vertical-align: top;\n",
       "    }\n",
       "\n",
       "    .dataframe thead th {\n",
       "        text-align: right;\n",
       "    }\n",
       "</style>\n",
       "<table border=\"1\" class=\"dataframe\">\n",
       "  <thead>\n",
       "    <tr style=\"text-align: right;\">\n",
       "      <th></th>\n",
       "      <th>Name</th>\n",
       "      <th>Age</th>\n",
       "      <th>City</th>\n",
       "    </tr>\n",
       "  </thead>\n",
       "  <tbody>\n",
       "    <tr>\n",
       "      <th>0</th>\n",
       "      <td>Raj</td>\n",
       "      <td>20</td>\n",
       "      <td>pune</td>\n",
       "    </tr>\n",
       "    <tr>\n",
       "      <th>1</th>\n",
       "      <td>Abhi</td>\n",
       "      <td>21</td>\n",
       "      <td>hyd</td>\n",
       "    </tr>\n",
       "    <tr>\n",
       "      <th>2</th>\n",
       "      <td>chinna</td>\n",
       "      <td>22</td>\n",
       "      <td>delhi</td>\n",
       "    </tr>\n",
       "  </tbody>\n",
       "</table>\n",
       "</div>"
      ],
      "text/plain": [
       "     Name  Age   City\n",
       "0     Raj   20   pune\n",
       "1    Abhi   21    hyd\n",
       "2  chinna   22  delhi"
      ]
     },
     "execution_count": 25,
     "metadata": {},
     "output_type": "execute_result"
    }
   ],
   "source": [
    "name = ['Raj','Abhi','chinna']\n",
    "age = [20,21,22]\n",
    "city = ['pune','hyd','delhi']\n",
    "df1['Name']=name\n",
    "df1['Age']=age\n",
    "df1['City']=city\n",
    "df1"
   ]
  },
  {
   "cell_type": "markdown",
   "id": "fda96e75-d175-4380-aaee-270d561e059e",
   "metadata": {},
   "source": [
    "**step-8: Create a DataFrame Using Dictionary**"
   ]
  },
  {
   "cell_type": "code",
   "execution_count": 28,
   "id": "eec4543d-e3f1-4281-8203-d551863f8d21",
   "metadata": {},
   "outputs": [
    {
     "data": {
      "text/plain": [
       "{'Name': ['raj', 'adhi', 'chinna'],\n",
       " 'Age': [20, 21, 22],\n",
       " 'city': ['pune', 'hyd', 'delhi']}"
      ]
     },
     "execution_count": 28,
     "metadata": {},
     "output_type": "execute_result"
    }
   ],
   "source": [
    "dict1={'Name':['raj','adhi','chinna'],\n",
    "      'Age':[20,21,22],\n",
    "      'city'  :['pune','hyd','delhi']}\n",
    "dict1"
   ]
  },
  {
   "cell_type": "code",
   "execution_count": 32,
   "id": "34ebe209-4470-403e-8bec-71b64e02ff64",
   "metadata": {},
   "outputs": [
    {
     "data": {
      "text/html": [
       "<div>\n",
       "<style scoped>\n",
       "    .dataframe tbody tr th:only-of-type {\n",
       "        vertical-align: middle;\n",
       "    }\n",
       "\n",
       "    .dataframe tbody tr th {\n",
       "        vertical-align: top;\n",
       "    }\n",
       "\n",
       "    .dataframe thead th {\n",
       "        text-align: right;\n",
       "    }\n",
       "</style>\n",
       "<table border=\"1\" class=\"dataframe\">\n",
       "  <thead>\n",
       "    <tr style=\"text-align: right;\">\n",
       "      <th></th>\n",
       "      <th>Name</th>\n",
       "      <th>Age</th>\n",
       "      <th>city</th>\n",
       "    </tr>\n",
       "  </thead>\n",
       "  <tbody>\n",
       "    <tr>\n",
       "      <th>A</th>\n",
       "      <td>raj</td>\n",
       "      <td>20</td>\n",
       "      <td>pune</td>\n",
       "    </tr>\n",
       "    <tr>\n",
       "      <th>B</th>\n",
       "      <td>adhi</td>\n",
       "      <td>21</td>\n",
       "      <td>hyd</td>\n",
       "    </tr>\n",
       "    <tr>\n",
       "      <th>C</th>\n",
       "      <td>chinna</td>\n",
       "      <td>22</td>\n",
       "      <td>delhi</td>\n",
       "    </tr>\n",
       "  </tbody>\n",
       "</table>\n",
       "</div>"
      ],
      "text/plain": [
       "     Name  Age   city\n",
       "A     raj   20   pune\n",
       "B    adhi   21    hyd\n",
       "C  chinna   22  delhi"
      ]
     },
     "execution_count": 32,
     "metadata": {},
     "output_type": "execute_result"
    }
   ],
   "source": [
    "df2=pd.DataFrame(dict1,index=['A','B','C'])\n",
    "df2"
   ]
  },
  {
   "cell_type": "markdown",
   "id": "48a6e0be-7718-481f-988e-cbb2ac1afcdd",
   "metadata": {},
   "source": [
    "- keys behave as columns\n",
    "- values have as rows"
   ]
  },
  {
   "cell_type": "code",
   "execution_count": 47,
   "id": "43e860d1-8b88-40c3-96bc-90b86bf5557d",
   "metadata": {},
   "outputs": [
    {
     "data": {
      "text/html": [
       "<div>\n",
       "<style scoped>\n",
       "    .dataframe tbody tr th:only-of-type {\n",
       "        vertical-align: middle;\n",
       "    }\n",
       "\n",
       "    .dataframe tbody tr th {\n",
       "        vertical-align: top;\n",
       "    }\n",
       "\n",
       "    .dataframe thead th {\n",
       "        text-align: right;\n",
       "    }\n",
       "</style>\n",
       "<table border=\"1\" class=\"dataframe\">\n",
       "  <thead>\n",
       "    <tr style=\"text-align: right;\">\n",
       "      <th></th>\n",
       "      <th>Name</th>\n",
       "      <th>Age</th>\n",
       "      <th>city</th>\n",
       "    </tr>\n",
       "  </thead>\n",
       "  <tbody>\n",
       "    <tr>\n",
       "      <th>1</th>\n",
       "      <td>raj</td>\n",
       "      <td>20</td>\n",
       "      <td>hyd</td>\n",
       "    </tr>\n",
       "  </tbody>\n",
       "</table>\n",
       "</div>"
      ],
      "text/plain": [
       "  Name  Age city\n",
       "1  raj   20  hyd"
      ]
     },
     "execution_count": 47,
     "metadata": {},
     "output_type": "execute_result"
    }
   ],
   "source": [
    "dict1={'Name':'raj',\n",
    "      'Age': 20,\n",
    "      'city'  :'hyd'}\n",
    "pd.DataFrame(dict1,index=[1])\n",
    "# if using all scalar value "
   ]
  },
  {
   "cell_type": "markdown",
   "id": "377cdc0f-ec12-4c1e-8074-3f36e548933f",
   "metadata": {},
   "source": [
    "- Data in the form of array\n",
    "    - list : Normal Way\n",
    "    - numpy : Numpy package\n",
    "    - tensor : Tensorflow "
   ]
  },
  {
   "cell_type": "code",
   "execution_count": 54,
   "id": "dccc7396-ec82-49f3-94e8-23dcd857efe0",
   "metadata": {},
   "outputs": [
    {
     "data": {
      "text/plain": [
       "array([1, 2, 3])"
      ]
     },
     "execution_count": 54,
     "metadata": {},
     "output_type": "execute_result"
    }
   ],
   "source": [
    "l1=[1,2,3]\n",
    "import numpy as np\n",
    "np.array(l1)\n",
    "\n",
    "# tensor([1,2,3])"
   ]
  },
  {
   "cell_type": "code",
   "execution_count": 56,
   "id": "86ceed1f-97e3-4138-8cd7-2fd5595fcfb4",
   "metadata": {},
   "outputs": [
    {
     "data": {
      "text/plain": [
       "[1, 2, 3, 11, 22, 33]"
      ]
     },
     "execution_count": 56,
     "metadata": {},
     "output_type": "execute_result"
    }
   ],
   "source": [
    "l1=[1,2,3]\n",
    "l2=[11,22,33]\n",
    "l1+l2"
   ]
  },
  {
   "cell_type": "code",
   "execution_count": 64,
   "id": "53030a12-0fa3-4a05-acea-f48833c58970",
   "metadata": {},
   "outputs": [
    {
     "data": {
      "text/plain": [
       "(array([13, 14, 15]), array([12, 24, 36]))"
      ]
     },
     "execution_count": 64,
     "metadata": {},
     "output_type": "execute_result"
    }
   ],
   "source": [
    "l1=[1,2,3]\n",
    "a=np.array(l1)\n",
    "l2=[11,12,13]\n",
    "b=np.array(12)\n",
    "a+b, a*b"
   ]
  },
  {
   "cell_type": "markdown",
   "id": "5ada7481-6670-4d25-94ad-5f43ef3c936e",
   "metadata": {},
   "source": [
    "**step-9: Drop the column**\n",
    "- in order to drop a column we need to use **drop** method\n",
    "- all the methods based on your dataframe name similar as string names\n",
    "- it requires mainly 3 arguments\n",
    "   - 1. column name\n",
    "   - 2.  axis\n",
    "       - axis=1 represents colums\n",
    "       - axis=0 represents rows\n",
    "   - 3. inplace\n",
    "       - once you drop the column , the dataframe affected\n",
    "       - the modified datafreme wants to save in a same name or different name\n",
    "       - if you want to keep the same name then **inplace=True**"
   ]
  },
  {
   "cell_type": "code",
   "execution_count": null,
   "id": "63388da1-8536-4d16-bed9-ca76b0a6324d",
   "metadata": {},
   "outputs": [],
   "source": [
    "df.drop()"
   ]
  },
  {
   "cell_type": "code",
   "execution_count": 74,
   "id": "d56bd895-e270-425d-9146-7de56a1d256e",
   "metadata": {},
   "outputs": [
    {
     "data": {
      "text/html": [
       "<div>\n",
       "<style scoped>\n",
       "    .dataframe tbody tr th:only-of-type {\n",
       "        vertical-align: middle;\n",
       "    }\n",
       "\n",
       "    .dataframe tbody tr th {\n",
       "        vertical-align: top;\n",
       "    }\n",
       "\n",
       "    .dataframe thead th {\n",
       "        text-align: right;\n",
       "    }\n",
       "</style>\n",
       "<table border=\"1\" class=\"dataframe\">\n",
       "  <thead>\n",
       "    <tr style=\"text-align: right;\">\n",
       "      <th></th>\n",
       "      <th>names</th>\n",
       "      <th>age</th>\n",
       "    </tr>\n",
       "  </thead>\n",
       "  <tbody>\n",
       "    <tr>\n",
       "      <th>A</th>\n",
       "      <td>Raj</td>\n",
       "      <td>20</td>\n",
       "    </tr>\n",
       "    <tr>\n",
       "      <th>B</th>\n",
       "      <td>Abhi</td>\n",
       "      <td>21</td>\n",
       "    </tr>\n",
       "    <tr>\n",
       "      <th>C</th>\n",
       "      <td>chinna</td>\n",
       "      <td>22</td>\n",
       "    </tr>\n",
       "  </tbody>\n",
       "</table>\n",
       "</div>"
      ],
      "text/plain": [
       "    names  age\n",
       "A     Raj   20\n",
       "B    Abhi   21\n",
       "C  chinna   22"
      ]
     },
     "execution_count": 74,
     "metadata": {},
     "output_type": "execute_result"
    }
   ],
   "source": [
    "# create the dataframe drop any column\n",
    "name = ['Raj','Abhi','chinna']\n",
    "age = [20,21,22]\n",
    "city = ['pune','hyd','delhi']\n",
    "cols=['names','age','city']\n",
    "id=['A','B','C']\n",
    "df=pd.DataFrame( zip(name,age,city),columns=cols,index=id)\n",
    "df.drop('city',axis=1,inplace=True)\n",
    "df"
   ]
  },
  {
   "cell_type": "code",
   "execution_count": 78,
   "id": "84bbc693-596c-4864-ae6b-85de101b4bfb",
   "metadata": {},
   "outputs": [
    {
     "data": {
      "text/html": [
       "<div>\n",
       "<style scoped>\n",
       "    .dataframe tbody tr th:only-of-type {\n",
       "        vertical-align: middle;\n",
       "    }\n",
       "\n",
       "    .dataframe tbody tr th {\n",
       "        vertical-align: top;\n",
       "    }\n",
       "\n",
       "    .dataframe thead th {\n",
       "        text-align: right;\n",
       "    }\n",
       "</style>\n",
       "<table border=\"1\" class=\"dataframe\">\n",
       "  <thead>\n",
       "    <tr style=\"text-align: right;\">\n",
       "      <th></th>\n",
       "      <th>names</th>\n",
       "      <th>age</th>\n",
       "      <th>city</th>\n",
       "    </tr>\n",
       "  </thead>\n",
       "  <tbody>\n",
       "    <tr>\n",
       "      <th>B</th>\n",
       "      <td>Abhi</td>\n",
       "      <td>21</td>\n",
       "      <td>hyd</td>\n",
       "    </tr>\n",
       "    <tr>\n",
       "      <th>C</th>\n",
       "      <td>chinna</td>\n",
       "      <td>22</td>\n",
       "      <td>delhi</td>\n",
       "    </tr>\n",
       "  </tbody>\n",
       "</table>\n",
       "</div>"
      ],
      "text/plain": [
       "    names  age   city\n",
       "B    Abhi   21    hyd\n",
       "C  chinna   22  delhi"
      ]
     },
     "execution_count": 78,
     "metadata": {},
     "output_type": "execute_result"
    }
   ],
   "source": [
    "# create the dataframe drop any column\n",
    "name = ['Raj','Abhi','chinna']\n",
    "age = [20,21,22]\n",
    "city = ['pune','hyd','delhi']\n",
    "cols=['names','age','city']\n",
    "id=['A','B','C']\n",
    "df=pd.DataFrame( zip(name,age,city),columns=cols,index=id)\n",
    "df.drop('A',axis=0,inplace=True)\n",
    "df"
   ]
  },
  {
   "cell_type": "code",
   "execution_count": null,
   "id": "c6b8914a-22b9-480d-b073-0ff25202f36a",
   "metadata": {},
   "outputs": [],
   "source": [
    "# create two dataframes df1 and df2\n",
    "# add those dataframes\n",
    "###### df1\n",
    "names  age city\n",
    "ramesh 20  hyd\n",
    "\n",
    "####### df2\n",
    "names  age city\n",
    "ramesh 21  blr\n",
    "\n",
    "ramesh  20 hyd\n",
    "sureh   21 blr\n",
    "\n",
    "append\n",
    "concat\n",
    "join"
   ]
  },
  {
   "cell_type": "markdown",
   "id": "26a86dbc-f190-4f40-9f27-26f113551475",
   "metadata": {},
   "source": [
    "**step-10: How to qverwrite existed column data**\n",
    "- we already has a dataframe\n",
    "- now we want replace all the values of a specific column with new values\n",
    "- first create a list with new values\n",
    "- then update the column with new value, in the same way of how to create a new column\n",
    "- df[new col]=data ,to create a new column\n",
    "- df[old col]=new data,to to overwrite the old column"
   ]
  },
  {
   "cell_type": "code",
   "execution_count": 85,
   "id": "b8c3a58b-3164-444a-b9e9-79935de5f1fd",
   "metadata": {},
   "outputs": [
    {
     "data": {
      "text/html": [
       "<div>\n",
       "<style scoped>\n",
       "    .dataframe tbody tr th:only-of-type {\n",
       "        vertical-align: middle;\n",
       "    }\n",
       "\n",
       "    .dataframe tbody tr th {\n",
       "        vertical-align: top;\n",
       "    }\n",
       "\n",
       "    .dataframe thead th {\n",
       "        text-align: right;\n",
       "    }\n",
       "</style>\n",
       "<table border=\"1\" class=\"dataframe\">\n",
       "  <thead>\n",
       "    <tr style=\"text-align: right;\">\n",
       "      <th></th>\n",
       "      <th>names</th>\n",
       "      <th>age</th>\n",
       "      <th>city</th>\n",
       "    </tr>\n",
       "  </thead>\n",
       "  <tbody>\n",
       "    <tr>\n",
       "      <th>B</th>\n",
       "      <td>Abhi</td>\n",
       "      <td>31</td>\n",
       "      <td>hyd</td>\n",
       "    </tr>\n",
       "    <tr>\n",
       "      <th>C</th>\n",
       "      <td>chinna</td>\n",
       "      <td>32</td>\n",
       "      <td>delhi</td>\n",
       "    </tr>\n",
       "  </tbody>\n",
       "</table>\n",
       "</div>"
      ],
      "text/plain": [
       "    names  age   city\n",
       "B    Abhi   31    hyd\n",
       "C  chinna   32  delhi"
      ]
     },
     "execution_count": 85,
     "metadata": {},
     "output_type": "execute_result"
    }
   ],
   "source": [
    "df['age']=[31,32]\n",
    "df"
   ]
  },
  {
   "cell_type": "markdown",
   "id": "2890a7d9-b321-4585-bc25-a000a8ea7a23",
   "metadata": {},
   "source": [
    "**step-11:how to save the DataFrame**"
   ]
  },
  {
   "cell_type": "markdown",
   "id": "91d0735b-139d-4e9d-bdf9-5f0a1830cc06",
   "metadata": {},
   "source": [
    "- we can save the dataframe using two ways\n",
    "- CSV : comma seperated value\n",
    "- excel\n",
    "- for csv : .to_csv   extenction=.csv\n",
    "- for excel: .to_excel  extenction=.xlsx"
   ]
  },
  {
   "cell_type": "code",
   "execution_count": 89,
   "id": "b15bfe8e-c591-4055-881c-d8b1e0048ba2",
   "metadata": {},
   "outputs": [
    {
     "data": {
      "text/html": [
       "<div>\n",
       "<style scoped>\n",
       "    .dataframe tbody tr th:only-of-type {\n",
       "        vertical-align: middle;\n",
       "    }\n",
       "\n",
       "    .dataframe tbody tr th {\n",
       "        vertical-align: top;\n",
       "    }\n",
       "\n",
       "    .dataframe thead th {\n",
       "        text-align: right;\n",
       "    }\n",
       "</style>\n",
       "<table border=\"1\" class=\"dataframe\">\n",
       "  <thead>\n",
       "    <tr style=\"text-align: right;\">\n",
       "      <th></th>\n",
       "      <th>names</th>\n",
       "      <th>age</th>\n",
       "      <th>city</th>\n",
       "    </tr>\n",
       "  </thead>\n",
       "  <tbody>\n",
       "    <tr>\n",
       "      <th>a</th>\n",
       "      <td>Raj</td>\n",
       "      <td>20</td>\n",
       "      <td>pune</td>\n",
       "    </tr>\n",
       "    <tr>\n",
       "      <th>b</th>\n",
       "      <td>Abhi</td>\n",
       "      <td>21</td>\n",
       "      <td>hyd</td>\n",
       "    </tr>\n",
       "    <tr>\n",
       "      <th>c</th>\n",
       "      <td>chinna</td>\n",
       "      <td>22</td>\n",
       "      <td>delhi</td>\n",
       "    </tr>\n",
       "  </tbody>\n",
       "</table>\n",
       "</div>"
      ],
      "text/plain": [
       "    names  age   city\n",
       "a     Raj   20   pune\n",
       "b    Abhi   21    hyd\n",
       "c  chinna   22  delhi"
      ]
     },
     "execution_count": 89,
     "metadata": {},
     "output_type": "execute_result"
    }
   ],
   "source": [
    "# create a dataframe\n",
    "name = ['Raj','Abhi','chinna']\n",
    "age = [20,21,22]\n",
    "city = ['pune','hyd','delhi']\n",
    "cols=['names','age','city']\n",
    "id=['a','b','c']\n",
    "df=pd.DataFrame( zip(name,age,city),columns=cols,index=id)\n",
    "df"
   ]
  },
  {
   "cell_type": "markdown",
   "id": "bce8842f-109d-4d88-8d61-225196344dc3",
   "metadata": {},
   "source": [
    "**csv format**"
   ]
  },
  {
   "cell_type": "code",
   "execution_count": 93,
   "id": "bf341a8d-01b4-4fbd-8092-604a969bdd63",
   "metadata": {},
   "outputs": [],
   "source": [
    "# dataframename.methodname\n",
    "# where you want to save\n",
    "# in what name you want to save\n",
    "df.to_csv('data.csv')"
   ]
  },
  {
   "cell_type": "markdown",
   "id": "93aebba9-c347-4c9e-8bcd-0892a5744de4",
   "metadata": {},
   "source": [
    "**Excel sheet**"
   ]
  },
  {
   "cell_type": "code",
   "execution_count": 95,
   "id": "0af3038d-ad5f-4447-9eda-37959100ad60",
   "metadata": {},
   "outputs": [],
   "source": [
    "df.to_excel('data1.xlsx')"
   ]
  },
  {
   "cell_type": "markdown",
   "id": "d8b470d3-e34e-4938-8c19-b8667d7d3dbb",
   "metadata": {},
   "source": [
    "**step-12 : read the data**\n",
    "\n",
    "- read_csv\n",
    "- read_excel\n",
    "- both avilable on pandas"
   ]
  },
  {
   "cell_type": "code",
   "execution_count": 98,
   "id": "ee0c9121-ae79-462c-b62a-6079d34c03b1",
   "metadata": {},
   "outputs": [
    {
     "data": {
      "text/html": [
       "<div>\n",
       "<style scoped>\n",
       "    .dataframe tbody tr th:only-of-type {\n",
       "        vertical-align: middle;\n",
       "    }\n",
       "\n",
       "    .dataframe tbody tr th {\n",
       "        vertical-align: top;\n",
       "    }\n",
       "\n",
       "    .dataframe thead th {\n",
       "        text-align: right;\n",
       "    }\n",
       "</style>\n",
       "<table border=\"1\" class=\"dataframe\">\n",
       "  <thead>\n",
       "    <tr style=\"text-align: right;\">\n",
       "      <th></th>\n",
       "      <th>Unnamed: 0</th>\n",
       "      <th>names</th>\n",
       "      <th>age</th>\n",
       "      <th>city</th>\n",
       "    </tr>\n",
       "  </thead>\n",
       "  <tbody>\n",
       "    <tr>\n",
       "      <th>0</th>\n",
       "      <td>a</td>\n",
       "      <td>Raj</td>\n",
       "      <td>20</td>\n",
       "      <td>pune</td>\n",
       "    </tr>\n",
       "    <tr>\n",
       "      <th>1</th>\n",
       "      <td>b</td>\n",
       "      <td>Abhi</td>\n",
       "      <td>21</td>\n",
       "      <td>hyd</td>\n",
       "    </tr>\n",
       "    <tr>\n",
       "      <th>2</th>\n",
       "      <td>c</td>\n",
       "      <td>chinna</td>\n",
       "      <td>22</td>\n",
       "      <td>delhi</td>\n",
       "    </tr>\n",
       "  </tbody>\n",
       "</table>\n",
       "</div>"
      ],
      "text/plain": [
       "  Unnamed: 0   names  age   city\n",
       "0          a     Raj   20   pune\n",
       "1          b    Abhi   21    hyd\n",
       "2          c  chinna   22  delhi"
      ]
     },
     "execution_count": 98,
     "metadata": {},
     "output_type": "execute_result"
    }
   ],
   "source": [
    "pd.read_csv('data.csv')"
   ]
  },
  {
   "cell_type": "code",
   "execution_count": 100,
   "id": "d8775727-0529-4d51-9366-83fbb71d054a",
   "metadata": {},
   "outputs": [
    {
     "data": {
      "text/html": [
       "<div>\n",
       "<style scoped>\n",
       "    .dataframe tbody tr th:only-of-type {\n",
       "        vertical-align: middle;\n",
       "    }\n",
       "\n",
       "    .dataframe tbody tr th {\n",
       "        vertical-align: top;\n",
       "    }\n",
       "\n",
       "    .dataframe thead th {\n",
       "        text-align: right;\n",
       "    }\n",
       "</style>\n",
       "<table border=\"1\" class=\"dataframe\">\n",
       "  <thead>\n",
       "    <tr style=\"text-align: right;\">\n",
       "      <th></th>\n",
       "      <th>Unnamed: 0</th>\n",
       "      <th>names</th>\n",
       "      <th>age</th>\n",
       "      <th>city</th>\n",
       "    </tr>\n",
       "  </thead>\n",
       "  <tbody>\n",
       "    <tr>\n",
       "      <th>0</th>\n",
       "      <td>a</td>\n",
       "      <td>Raj</td>\n",
       "      <td>20</td>\n",
       "      <td>pune</td>\n",
       "    </tr>\n",
       "    <tr>\n",
       "      <th>1</th>\n",
       "      <td>b</td>\n",
       "      <td>Abhi</td>\n",
       "      <td>21</td>\n",
       "      <td>hyd</td>\n",
       "    </tr>\n",
       "    <tr>\n",
       "      <th>2</th>\n",
       "      <td>c</td>\n",
       "      <td>chinna</td>\n",
       "      <td>22</td>\n",
       "      <td>delhi</td>\n",
       "    </tr>\n",
       "  </tbody>\n",
       "</table>\n",
       "</div>"
      ],
      "text/plain": [
       "  Unnamed: 0   names  age   city\n",
       "0          a     Raj   20   pune\n",
       "1          b    Abhi   21    hyd\n",
       "2          c  chinna   22  delhi"
      ]
     },
     "execution_count": 100,
     "metadata": {},
     "output_type": "execute_result"
    }
   ],
   "source": [
    "pd.read_excel('data1.xlsx')"
   ]
  },
  {
   "cell_type": "markdown",
   "id": "36082144-d059-40d7-9295-b6f0a054f87b",
   "metadata": {},
   "source": [
    "**step-13: how to avoid extra column**\n",
    "\n",
    "- while we are saving the data, we have argument name **index**\n",
    "- keep index=False"
   ]
  },
  {
   "cell_type": "code",
   "execution_count": 103,
   "id": "500cbef6-0aa1-4b4f-a093-a6b82f15dcdc",
   "metadata": {},
   "outputs": [
    {
     "data": {
      "text/html": [
       "<div>\n",
       "<style scoped>\n",
       "    .dataframe tbody tr th:only-of-type {\n",
       "        vertical-align: middle;\n",
       "    }\n",
       "\n",
       "    .dataframe tbody tr th {\n",
       "        vertical-align: top;\n",
       "    }\n",
       "\n",
       "    .dataframe thead th {\n",
       "        text-align: right;\n",
       "    }\n",
       "</style>\n",
       "<table border=\"1\" class=\"dataframe\">\n",
       "  <thead>\n",
       "    <tr style=\"text-align: right;\">\n",
       "      <th></th>\n",
       "      <th>names</th>\n",
       "      <th>age</th>\n",
       "      <th>city</th>\n",
       "    </tr>\n",
       "  </thead>\n",
       "  <tbody>\n",
       "    <tr>\n",
       "      <th>0</th>\n",
       "      <td>Raj</td>\n",
       "      <td>20</td>\n",
       "      <td>pune</td>\n",
       "    </tr>\n",
       "    <tr>\n",
       "      <th>1</th>\n",
       "      <td>Abhi</td>\n",
       "      <td>21</td>\n",
       "      <td>hyd</td>\n",
       "    </tr>\n",
       "    <tr>\n",
       "      <th>2</th>\n",
       "      <td>chinna</td>\n",
       "      <td>22</td>\n",
       "      <td>delhi</td>\n",
       "    </tr>\n",
       "  </tbody>\n",
       "</table>\n",
       "</div>"
      ],
      "text/plain": [
       "    names  age   city\n",
       "0     Raj   20   pune\n",
       "1    Abhi   21    hyd\n",
       "2  chinna   22  delhi"
      ]
     },
     "execution_count": 103,
     "metadata": {},
     "output_type": "execute_result"
    }
   ],
   "source": [
    "# give the different name, privide index= false\n",
    "df.to_csv('data11.csv',index=False)\n",
    "pd.read_csv('data11.csv')"
   ]
  },
  {
   "cell_type": "code",
   "execution_count": null,
   "id": "f40dca97-61f6-48db-a32c-8ed9704fd921",
   "metadata": {},
   "outputs": [],
   "source": []
  }
 ],
 "metadata": {
  "kernelspec": {
   "display_name": "Python 3 (ipykernel)",
   "language": "python",
   "name": "python3"
  },
  "language_info": {
   "codemirror_mode": {
    "name": "ipython",
    "version": 3
   },
   "file_extension": ".py",
   "mimetype": "text/x-python",
   "name": "python",
   "nbconvert_exporter": "python",
   "pygments_lexer": "ipython3",
   "version": "3.12.4"
  }
 },
 "nbformat": 4,
 "nbformat_minor": 5
}
